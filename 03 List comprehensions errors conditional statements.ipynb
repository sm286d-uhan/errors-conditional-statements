{
 "cells": [
  {
   "cell_type": "markdown",
   "metadata": {
    "hide_cell": true
   },
   "source": [
    "<span class='note'><i>Make me look good.</i> Click on the cell below and press <kbd>Ctrl</kbd>+<kbd>Enter</kbd>.</span>"
   ]
  },
  {
   "cell_type": "code",
   "execution_count": null,
   "metadata": {
    "hide_cell": true
   },
   "outputs": [],
   "source": [
    "from IPython.core.display import HTML\n",
    "HTML(open('css/custom.css', 'r').read())"
   ]
  },
  {
   "cell_type": "markdown",
   "metadata": {
    "hide_cell": true
   },
   "source": [
    "<h5 class='prehead'>SM286D &middot; Introduction to Applied Mathematics with Python &middot; Spring 2020 &middot; Uhan</h5>\n",
    "\n",
    "<h5 class='lesson'>Lesson 3.</h5>\n",
    "\n",
    "<h1 class='lesson_title'>List comprehensions, errors, conditional statements</h1>"
   ]
  },
  {
   "cell_type": "markdown",
   "metadata": {},
   "source": [
    "## This lesson..."
   ]
  },
  {
   "cell_type": "markdown",
   "metadata": {},
   "source": [
    "- List comprehensions\n",
    "\n",
    "- Errors\n",
    "     - Syntax errors\n",
    "     - Logical errors\n",
    "     \n",
    "- Conditional tests and statements\n",
    " \n",
    "- Advanced Jupyter features"
   ]
  },
  {
   "cell_type": "markdown",
   "metadata": {},
   "source": [
    "---"
   ]
  },
  {
   "cell_type": "markdown",
   "metadata": {},
   "source": [
    "## List comprehensions"
   ]
  },
  {
   "cell_type": "markdown",
   "metadata": {},
   "source": [
    "__Warm up.__ Use a `for` loop and the `.append()` method to create a list of the first 10 cubic numbers, starting with $0^3, 1^3, 2^3, ...$ Print the list to check your work."
   ]
  },
  {
   "cell_type": "code",
   "execution_count": null,
   "metadata": {},
   "outputs": [],
   "source": [
    "# Write your code here\n"
   ]
  },
  {
   "cell_type": "markdown",
   "metadata": {},
   "source": [
    "- A __list comprehension__ is a compact way of constructing lists.\n",
    "\n",
    "- For example, to create the same list we built in the above warm up example:"
   ]
  },
  {
   "cell_type": "code",
   "execution_count": null,
   "metadata": {},
   "outputs": [],
   "source": [
    "# Create list with list comprehension\n",
    "\n",
    "\n",
    "# Print the list\n"
   ]
  },
  {
   "cell_type": "markdown",
   "metadata": {},
   "source": [
    "- To write a list comprehension:\n",
    "    - Open a set of square brackets.\n",
    "    - Write the expression for the values you want to store in the list.\n",
    "    - Then, write a for loop to generate the numbers you want to feed into the expression.\n",
    "    - Close the square brackets."
   ]
  },
  {
   "cell_type": "markdown",
   "metadata": {},
   "source": [
    "- List comprehensions are 😎 (and easier to read and write when you get used to them)...\n",
    "\n",
    "- But the `.append()` technique is 👍 too."
   ]
  },
  {
   "cell_type": "markdown",
   "metadata": {},
   "source": [
    "---"
   ]
  },
  {
   "cell_type": "markdown",
   "metadata": {},
   "source": [
    "##  Errors"
   ]
  },
  {
   "cell_type": "markdown",
   "metadata": {},
   "source": [
    "### Syntax errors"
   ]
  },
  {
   "cell_type": "markdown",
   "metadata": {},
   "source": [
    "- Python is a language in much the same way that English is a language.\n",
    "    - When we construct a sentence in English, we must follow the \"rules\" of English.  These \"rules\" are called grammar.\n",
    "    - When we write code in Python, we must follow the \"rules\" of Python.  These \"rules\" are called __syntax__.\n",
    "\n",
    "- Below is an example of a poorly constructed, grammatically incorrect, English sentence.\n",
    "\n",
    "    > The dawg the car chsed exited.\n",
    "\n",
    "- Note that our brains can sometimes make sense of even very poorly constructed sentences in English.  \n",
    "\n",
    "- The Python interpreter is not as forgiving.\n",
    "\n",
    "- Let's look at an example of Python code that contains syntax errors:"
   ]
  },
  {
   "cell_type": "code",
   "execution_count": null,
   "metadata": {},
   "outputs": [],
   "source": [
    "# Print the numbers 1 through 10\n",
    "For i in RANGE(1, 11)\n",
    "    print(i)"
   ]
  },
  {
   "cell_type": "markdown",
   "metadata": {},
   "source": [
    "- Let's fix this code together:"
   ]
  },
  {
   "cell_type": "code",
   "execution_count": null,
   "metadata": {},
   "outputs": [],
   "source": [
    "# Print the numbers 1 through 10\n",
    "For i in RANGE(1, 11)\n",
    "    print(i)"
   ]
  },
  {
   "cell_type": "markdown",
   "metadata": {},
   "source": [
    "- What was wrong?"
   ]
  },
  {
   "cell_type": "markdown",
   "metadata": {},
   "source": [
    "_Write your notes here. Double-click to edit._"
   ]
  },
  {
   "cell_type": "markdown",
   "metadata": {},
   "source": [
    "- Sometimes Python's error messages are misleading. For example:"
   ]
  },
  {
   "cell_type": "code",
   "execution_count": null,
   "metadata": {},
   "outputs": [],
   "source": [
    "# Define list of veggies\n",
    "veggies = ['lettuce', 'celery', 'carrot', 'cucumber'\n",
    "\n",
    "# Sort veggies in alphabetical order\n",
    "veggies.sort()\n",
    "\n",
    "# Print the list of veggies in alphabetical order\n",
    "print(veggies)"
   ]
  },
  {
   "cell_type": "markdown",
   "metadata": {},
   "source": [
    "- __Important tip.__ Always check <span style=\"rred\">above</span> the code that Python points you to in an error message, just in case.\n",
    "\n",
    "- Let's fix this code:"
   ]
  },
  {
   "cell_type": "code",
   "execution_count": null,
   "metadata": {},
   "outputs": [],
   "source": [
    "# Define list of veggies\n",
    "veggies = ['lettuce', 'celery', 'carrot', 'cucumber'\n",
    "\n",
    "# Sort veggies in alphabetical order\n",
    "veggies.sort()\n",
    "\n",
    "# Print the list of veggies in alphabetical order\n",
    "print(veggies)"
   ]
  },
  {
   "cell_type": "markdown",
   "metadata": {},
   "source": [
    "- What was wrong?"
   ]
  },
  {
   "cell_type": "markdown",
   "metadata": {},
   "source": [
    "_Write your notes here. Double-click to edit._"
   ]
  },
  {
   "cell_type": "markdown",
   "metadata": {},
   "source": [
    "### Logical Errors"
   ]
  },
  {
   "cell_type": "markdown",
   "metadata": {},
   "source": [
    "\n",
    "- When we write English sentences, we might introduce logical errors that lead to unintended meanings.  For example:\n",
    "\n",
    "    > Let's eat, Grandma!\n",
    "    > \n",
    "    > Let's eat Grandma!\n",
    "\n",
    "- We can also introduce logical errors when writing Python code. For example:"
   ]
  },
  {
   "cell_type": "code",
   "execution_count": null,
   "metadata": {},
   "outputs": [],
   "source": [
    "# Create a list containing all odd numbers from 1 - 20\n",
    "odd_numbers = []\n",
    "for number in range(0, 20, 2):\n",
    "    print(number)\n",
    "\n",
    "# Let's check our work\n",
    "print(odd_numbers)"
   ]
  },
  {
   "cell_type": "markdown",
   "metadata": {},
   "source": [
    "- Note that when we ran the code, we didn't get any error messages. However, we didn't get we what wanted.\n",
    "\n",
    "- Let's fix this code together:"
   ]
  },
  {
   "cell_type": "code",
   "execution_count": null,
   "metadata": {},
   "outputs": [],
   "source": [
    "# Create a list containing all odd numbers from 1 - 20\n",
    "odd_numbers = []\n",
    "for number in range(0, 20, 2):\n",
    "    print(number)\n",
    "\n",
    "# Let's check our work\n",
    "print(odd_numbers)"
   ]
  },
  {
   "cell_type": "markdown",
   "metadata": {},
   "source": [
    "- General tips to avoid logical errors (and 🤬):\n",
    "    - Write your code piece-by-piece. Start with the smaller, easier parts first, and build on that.\n",
    "    - Check your work often by running your code, even if it isn't complely finished."
   ]
  },
  {
   "cell_type": "markdown",
   "metadata": {},
   "source": [
    "---"
   ]
  },
  {
   "cell_type": "markdown",
   "metadata": {},
   "source": [
    "## Conditional tests"
   ]
  },
  {
   "cell_type": "markdown",
   "metadata": {},
   "source": [
    "- A __conditional test__ is an expression that evaluates to `True` or `False`.\n",
    "\n",
    "- Perhaps the most basic conditional test is to __check for equality__ using the `==` operator:\n",
    "    - If the two items on either side of `==` are equal, then it returns `True`.\n",
    "    - Otherwise, it returns `False`."
   ]
  },
  {
   "cell_type": "code",
   "execution_count": null,
   "metadata": {},
   "outputs": [],
   "source": [
    "# Let's define today to be Tuesday\n",
    "today = \"Tuesday\""
   ]
  },
  {
   "cell_type": "code",
   "execution_count": null,
   "metadata": {},
   "outputs": [],
   "source": [
    "# Is today Tuesday?\n"
   ]
  },
  {
   "cell_type": "code",
   "execution_count": null,
   "metadata": {},
   "outputs": [],
   "source": [
    "# Is today Friday?\n"
   ]
  },
  {
   "cell_type": "markdown",
   "metadata": {},
   "source": [
    "* Other types of comparisons:\n",
    "\n",
    "| Comparison | Meaning |\n",
    "| :----------- | :-------- |\n",
    "| `==`         | equal  |\n",
    "| `!=`         | not equal |\n",
    "| `<`          | less than  |\n",
    "| `>`          | greater than |\n",
    "| `<=`         | less than or equal |\n",
    "| `>=`         | greater than or equal |"
   ]
  },
  {
   "cell_type": "markdown",
   "metadata": {},
   "source": [
    "- **WARNING!** In Python:\n",
    "    - A <span class=\"rred\">single</span> equal sign `=` is used to assign the value of something.\n",
    "    - A <span class=\"rred\">double</span> equal sign `==` is used to check if something is equal to something else."
   ]
  },
  {
   "cell_type": "markdown",
   "metadata": {},
   "source": [
    "- We can combine multiple conditional tests using `and` and `or`:"
   ]
  },
  {
   "cell_type": "code",
   "execution_count": null,
   "metadata": {},
   "outputs": [],
   "source": [
    "# Let's define a variable with our age\n",
    "age = 85\n",
    "\n",
    "# Am I between 20 and 30 years old?\n",
    "\n",
    "\n",
    "# Am I under 20 or over 30 years old?\n"
   ]
  },
  {
   "cell_type": "markdown",
   "metadata": {},
   "source": [
    "- We can also check if a value is in a list:"
   ]
  },
  {
   "cell_type": "code",
   "execution_count": null,
   "metadata": {},
   "outputs": [],
   "source": [
    "# Define list of veggies again\n",
    "veggies = ['lettuce', 'celery', 'carrot', 'cucumber']\n",
    "\n",
    "# Is 'cucumber' in our list of veggies?\n",
    "print('cucumber' in veggies)\n",
    "\n",
    "# ... but is 'Cucumber' in our list of veggies?\n",
    "print('Cucumber' in veggies)"
   ]
  },
  {
   "cell_type": "markdown",
   "metadata": {},
   "source": [
    "---"
   ]
  },
  {
   "cell_type": "markdown",
   "metadata": {},
   "source": [
    "## Conditional statements"
   ]
  },
  {
   "cell_type": "markdown",
   "metadata": {},
   "source": [
    "- Simple `if` statements:\n",
    "    \n",
    "    ```\n",
    "    if conditional_test:\n",
    "        do something\n",
    "    ```\n",
    "\n",
    "- For example, to check if a number is a mutliple of 3:"
   ]
  },
  {
   "cell_type": "code",
   "execution_count": null,
   "metadata": {},
   "outputs": [],
   "source": [
    "# Pick a number\n",
    "number = 15\n",
    "\n",
    "# Check if it is a multiple of 3\n"
   ]
  },
  {
   "cell_type": "markdown",
   "metadata": {},
   "source": [
    "- `if`-`else` statements:\n",
    "\n",
    "    ```\n",
    "    if conditional_test:\n",
    "        do something\n",
    "    else:\n",
    "        conditional_test is False, so do something else\n",
    "    ```\n",
    "- Building upon the previous example:"
   ]
  },
  {
   "cell_type": "code",
   "execution_count": null,
   "metadata": {},
   "outputs": [],
   "source": [
    "# Pick a number\n",
    "number = 14\n",
    "\n",
    "# Check if it is a multiple of 3\n"
   ]
  },
  {
   "cell_type": "markdown",
   "metadata": {},
   "source": [
    "- `if`-`elif`-`else` statements:\n",
    "    \n",
    "    ```\n",
    "    if conditional_test_1:\n",
    "        do something\n",
    "    elif conditional_test_2:\n",
    "        here, conditional_test_1 is False, but conditional_test_2 is True\n",
    "        do something else\n",
    "    else:\n",
    "        here, both conditional_test_1 and conditional_test_2 are False\n",
    "        do something craaaazy\n",
    "   ```\n",
    "- The `else` part is optional (i.e. you can have an `if`-`elif` statement).\n",
    "\n",
    "- What's the difference between using an `if`-`elif` statement vs. two `if` statements? Let's take a look at the following two examples."
   ]
  },
  {
   "cell_type": "code",
   "execution_count": null,
   "metadata": {},
   "outputs": [],
   "source": [
    "from IPython.display import IFrame\n",
    "IFrame(\"http://pythontutor.com/iframe-embed.html#code=%23%20Pick%20a%20number%0Anumber%20%3D%2015%0A%0A%23%20Check%20if%20it%20is%20a%20multiple%20of%203%0Aif%20number%20%25%203%20%3D%3D%200%3A%0A%20%20%20%20print%28f'The%20number%20%7Bnumber%7D%20is%20a%20multiple%20of%203.'%29%0Aelif%20number%20%25%205%20%3D%3D%200%3A%0A%20%20%20%20print%28f'The%20number%20%7Bnumber%7D%20is%20a%20multiple%20of%205.'%29&codeDivHeight=400&codeDivWidth=350&cumulative=false&curInstr=0&heapPrimitives=nevernest&origin=opt-frontend.js&py=3&rawInputLstJSON=%5B%5D&textReferences=false\", width=800, height=450)"
   ]
  },
  {
   "cell_type": "code",
   "execution_count": null,
   "metadata": {},
   "outputs": [],
   "source": [
    "from IPython.display import IFrame\n",
    "IFrame(\"http://pythontutor.com/iframe-embed.html#code=%23%20Pick%20a%20number%0Anumber%20%3D%2015%0A%0A%23%20Check%20if%20it%20is%20a%20multiple%20of%203%0Aif%20number%20%25%203%20%3D%3D%200%3A%0A%20%20%20%20print%28f'The%20number%20%7Bnumber%7D%20is%20a%20multiple%20of%203.'%29%0Aif%20number%20%25%205%20%3D%3D%200%3A%0A%20%20%20%20print%28f'The%20number%20%7Bnumber%7D%20is%20a%20multiple%20of%205.'%29&codeDivHeight=400&codeDivWidth=350&cumulative=false&curInstr=0&heapPrimitives=nevernest&origin=opt-frontend.js&py=3&rawInputLstJSON=%5B%5D&textReferences=false\", width=800, height=450)"
   ]
  },
  {
   "cell_type": "markdown",
   "metadata": {},
   "source": [
    "---"
   ]
  },
  {
   "cell_type": "markdown",
   "metadata": {},
   "source": [
    "## Advanced Jupyter features that might be useful"
   ]
  },
  {
   "cell_type": "markdown",
   "metadata": {},
   "source": [
    "### Keyboard shortcuts"
   ]
  },
  {
   "cell_type": "markdown",
   "metadata": {},
   "source": [
    "* There are keyboard shortcuts, but they can be a little tricky to use. Take a look at __Help &#8594; Keyboard Shortcuts__.\n",
    "\n",
    "* If you click in the text box of a code cell or double-click in a Markdown cell, then it is outlined by a green box. This is called __Edit Mode__.\n",
    "\n",
    "* If you click on the <span class=\"rred\">side</span> of a code cell, then it is outlined by a blue box. This is called __Command Mode__.\n",
    "\n",
    "* To enter Command Mode from Edit mode, press <kbd>Esc</kbd>.\n",
    "\n",
    "* Here are three really useful keyboard shortcuts:\n",
    "    * __Indenting multiple lines.__ In Edit Mode, highlight the lines you want to indent, and then press <kbd>Tab</kbd>. If you want to de-indent them (i.e. indent them to the left), press <kbd>Shift</kbd>+<kbd>Tab</kbd>.\n",
    "    * __Commenting multiple lines.__ In Edit Mode, highlight the lines you want to comment, and then press <kbd>Ctrl</kbd>+<kbd>/</kbd>. Press <kbd>Ctrl</kbd>+<kbd>/</kbd> again to uncomment those lines.\n",
    "    * __Line numbers.__ In Command Mode, press <kbd>L</kbd> to show/hide line numbers in the cell."
   ]
  },
  {
   "cell_type": "code",
   "execution_count": null,
   "metadata": {},
   "outputs": [],
   "source": [
    "# Try turning on and turning off line numbers in this cell.\n",
    "# Play around with indenting and de-indenting code.\n",
    "student_names = [\"Amy\", \"Bob\", \"Carol\"]\n",
    "for name in student_names:\n",
    "    print(f\"The name of this student is {name}.\")\n",
    "    print(f\"The name of this student is all uppercase is {name.upper()}.\")\n",
    "    print(f\"The name of this student is all lowercase is {name.lower()}.\")    "
   ]
  },
  {
   "cell_type": "markdown",
   "metadata": {},
   "source": [
    "### Running multiple cells"
   ]
  },
  {
   "cell_type": "markdown",
   "metadata": {},
   "source": [
    "* You can run all the cells in a notebook by selecting __Cell &#8594; Run All__.\n",
    "\n",
    "* You can run all the cells above/below the current cell by selecting __Cell &#8594; Run All Above/Below__."
   ]
  },
  {
   "cell_type": "markdown",
   "metadata": {},
   "source": [
    "### Clearing the output of code cells"
   ]
  },
  {
   "cell_type": "markdown",
   "metadata": {},
   "source": [
    "* You can clear the output of a code cell by selecting __Cell &#8594; Current Output &#8594; Clear__. \n",
    "\n",
    "* You can clear the output of all code cells by selecting __Cell &#8594; All Output &#8594; Clear__."
   ]
  },
  {
   "cell_type": "markdown",
   "metadata": {},
   "source": [
    "---"
   ]
  },
  {
   "cell_type": "markdown",
   "metadata": {},
   "source": [
    "## Classwork &mdash; on your own!"
   ]
  },
  {
   "cell_type": "markdown",
   "metadata": {},
   "source": [
    "__Problem 1.__  In this question we work with numbers mod 7. The number 8 is equal to (1 mod 7) because its remainder upon division by 7 is equal to 1. You can compute and print the value of (8 mod 7) in Python by writing:"
   ]
  },
  {
   "cell_type": "code",
   "execution_count": null,
   "metadata": {},
   "outputs": [],
   "source": [
    "print(8 % 7)"
   ]
  },
  {
   "cell_type": "markdown",
   "metadata": {},
   "source": [
    "Using a `for` loop and an `if` statement, compute the sum of the positive integers less than 55 that are equal to (1 mod 7)."
   ]
  },
  {
   "cell_type": "code",
   "execution_count": null,
   "metadata": {},
   "outputs": [],
   "source": [
    "# Write your code here\n"
   ]
  },
  {
   "cell_type": "markdown",
   "metadata": {},
   "source": [
    "__Problem 2.__ (PCC 5-10: Checking Usernames) Do the following to create a program that simulates how websites ensure that everyone has a unique username. \n",
    "\n",
    " - Make a list of five or more usernames called `current_users`.\n",
    " - Make another list of five usernames called `new_users`. Make sure one or two of the new usernames are also in the `current_users` list.\n",
    " - Loop through the `new_users` list to see if each new username has already been used. If it has, print a message that the person will need to enter a new username. If a username has not been used, print a message saying that the username is available.\n",
    " - Make sure your comparison is case insensitive. For example, if 'John' has been used, 'JOHN' should not be accepted."
   ]
  },
  {
   "cell_type": "code",
   "execution_count": null,
   "metadata": {},
   "outputs": [],
   "source": [
    "# Write your code here\n"
   ]
  },
  {
   "cell_type": "markdown",
   "metadata": {},
   "source": [
    "__Problem 3.__ (PCC 5-11: Ordinal Numbers) Ordinal numbers indicate their position in a list, such as 1st or 2nd. Most ordinal numbers end in th, except 1, 2, and 3.\n",
    "\n",
    " - Store the numbers 1 through 9 in a list.\n",
    " - Loop through the list.\n",
    " - Use an `if`-`elif`-`else` chain inside the loop to print the proper ordinal ending for each number. Your output should look like this:\n",
    "     ```\n",
    "     1st\n",
    "     2nd\n",
    "     3rd\n",
    "     4th\n",
    "     5th\n",
    "     6th\n",
    "     7th\n",
    "     8th\n",
    "     9th\n",
    "     ```"
   ]
  },
  {
   "cell_type": "code",
   "execution_count": null,
   "metadata": {},
   "outputs": [],
   "source": [
    "# Write your code here\n"
   ]
  },
  {
   "cell_type": "markdown",
   "metadata": {},
   "source": [
    "__Problem 4.__ (PCC 5-13: Your Ideas) At this point, you are a more capable programmer than you were when you started this book. Now that you have a better sense of how real-world situations are modeled in programs, you might be thinking of some problems you could solve with your own programs. Record any new ideas you have about problems you might want to solve as your programming skills continue to improve. Consider games you might want to write, data sets you might want to explore, and web applications you would like to create."
   ]
  },
  {
   "cell_type": "markdown",
   "metadata": {},
   "source": [
    "_Write your ideas here. Double-click to edit._"
   ]
  },
  {
   "cell_type": "markdown",
   "metadata": {},
   "source": [
    "__Problem 5.__  In the code cell below, we have the data for several recipes from Cooking Light Magazine, September 2016:\n",
    "\n",
    " - Kale, Mushroom, and Bacon Pita Pizzas\n",
    " - Pea, Tomato and Bacon Gnochi\n",
    " - Kale and Mushroom Quinoa with Romanesco\n",
    " - Kale, Apple and Almond Chicken Salad\n",
    " - Kale Pesto Pasta with Shrimp\n",
    " - Stacked Chicken Enchiladas\n",
    "\n",
    "<img width=200 src=\"img/cooking.jpg\">\n",
    "\n",
    "Use the variables defined below for your code. We store the six names in the above order in the list `recipe_names`. Corresponding data is stored in the lists `recipe_active_times`, `recipe_total_times`, `recipe_calories`, `recipe_fats`, `recipe_proteins`, `recipe_carbs`, `recipe_fibers`, `recipe_sugars`, `recipe_cholesterols`, `recipe_irons`, `recipe_sodiums`, `recipe_calciums`.  "
   ]
  },
  {
   "cell_type": "code",
   "execution_count": null,
   "metadata": {},
   "outputs": [],
   "source": [
    "# Recipe data - do not modify\n",
    "recipe_names = ['pizza', 'gnochi', 'quinoa', 'chicken salad', \n",
    "                'pasta with shrimp', 'enchiladas']\n",
    "recipe_active_times = [30, 18, 25, 35, 20, 25]\n",
    "recipe_total_times = [30, 30, 40, 35, 20, 40]\n",
    "recipe_calories = [314, 301, 519, 318, 472, 348]\n",
    "recipe_fats = [11.9, 8.7, 25.1, 20.6, 21.7, 14.5]\n",
    "recipe_proteins = [13, 10, 22, 20, 24, 29]\n",
    "recipe_carbs = [41, 44, 53, 14, 46, 28]\n",
    "recipe_fibers = [9, 10, 7, 4, 8, 5]\n",
    "recipe_sugars = [5, 3, 6, 6, 1, 3]\n",
    "recipe_cholesterols = [10, 13, 186, 81, 114, 101]\n",
    "recipe_irons = [3, 5, 5, 2, 3, 1]\n",
    "recipe_sodiums = [492, 640, 722, 447, 575, 613]\n",
    "recipe_calciums = [139, 68, 169, 159, 241, 329]    "
   ]
  },
  {
   "cell_type": "markdown",
   "metadata": {},
   "source": [
    "1. Print the names of the recipes that can be cooked in less than or equal\tto half an hour. Use a `for` loop to do so without hard coding the number of recipes. "
   ]
  },
  {
   "cell_type": "code",
   "execution_count": null,
   "metadata": {},
   "outputs": [],
   "source": [
    "# Write your code here\n"
   ]
  },
  {
   "cell_type": "markdown",
   "metadata": {},
   "source": [
    "2.  Print the names of the recipes that have less than 400 calories and more than 5g of fiber. Use a `for` loop to do so without hard coding the number of recipes.  "
   ]
  },
  {
   "cell_type": "code",
   "execution_count": null,
   "metadata": {},
   "outputs": [],
   "source": [
    "# Write your code here\n"
   ]
  },
  {
   "cell_type": "markdown",
   "metadata": {},
   "source": [
    "3.  Print the names of the recipes that have more than 20g of protein or less than 3g of sugar.  Use a loop to do so without hard coding the number of recipes. "
   ]
  },
  {
   "cell_type": "code",
   "execution_count": null,
   "metadata": {},
   "outputs": [],
   "source": [
    "# Write your code here\n"
   ]
  },
  {
   "cell_type": "markdown",
   "metadata": {},
   "source": [
    "__Problem 6.__ (Seven Up) Seven Up is a fun game to play with elementary school students. Going around the room, each student says a number in the sequence 1, 2, 3,... However, if a number ends in seven (like 17) or if a number is divisible by 7 (like 14) then the student instead says \"up\". In the game, when a student makes a mistake, they are eliminated and the remainder of the class starts again at 1, but we'll assume that our students always say the correct thing. \n",
    "\n",
    "1. The class counts to 50. Make a list consisting of strings containing the things that the students say. Your list should start with \"1\", \"2\", \"3\", \"4\", \"5\", \"6\", and \"up\". Print the list to check your work."
   ]
  },
  {
   "cell_type": "code",
   "execution_count": null,
   "metadata": {},
   "outputs": [],
   "source": [
    "# Write your code here\n"
   ]
  },
  {
   "cell_type": "markdown",
   "metadata": {},
   "source": [
    "2. If there are 18 students in the class and they count until 1000, make a list containing the things that are said by the 3rd student. The 3rd student starts with \"3\" and then \"up\". Print the list to check your work."
   ]
  },
  {
   "cell_type": "code",
   "execution_count": null,
   "metadata": {},
   "outputs": [],
   "source": [
    "# Write your code here\n"
   ]
  },
  {
   "cell_type": "markdown",
   "metadata": {},
   "source": [
    "__Problem 7.__ (The Locker Problem) A hallway has 1000 open lockers numbered 1 to 1000. There are 1000 students and every number from 1 to 1000 is assigned to a student. Student 1 goes and shuts every locker. Student 2 goes and changes the state of every locker with an even number (i.e. this student opens closed lockers and closes any open lockers). This process continues with student $k$ changing the state of every locker whose number is evenly divisible by $k$. Which of the lockers are closed at the end of the process? Write code to implement the closing and opening of lockers and see. "
   ]
  },
  {
   "cell_type": "code",
   "execution_count": null,
   "metadata": {
    "scrolled": true
   },
   "outputs": [],
   "source": [
    "# Write your code here\n"
   ]
  },
  {
   "cell_type": "markdown",
   "metadata": {},
   "source": [
    "_Do you see a pattern in which lockers are open? Write your notes here. Double-click to edit._\n",
    "\n",
    "The closed lockers are those with square numbers."
   ]
  },
  {
   "cell_type": "markdown",
   "metadata": {},
   "source": [
    "__Problem 8.__ Write code that sets the variable `time` to `1155` and another variable `half` to either `'am'` or `'pm'`. Now write code that converts this time to 24 hour zulu time, stores the result in a variable `zulu` and writes a sentence to the screen, such as \"1155 pm is equivalent to 2355 zulu time.\"\n",
    "\n",
    "Your code should produce the correct answer in both cases (am or pm). What should the output be when `time = 1245` and `half = pm`? Recall that pm stands for the Latin expression post meridiem (after midday). "
   ]
  },
  {
   "cell_type": "code",
   "execution_count": null,
   "metadata": {},
   "outputs": [],
   "source": [
    "# Write your code here for 1155\n"
   ]
  },
  {
   "cell_type": "code",
   "execution_count": null,
   "metadata": {},
   "outputs": [],
   "source": [
    "# Write your code here for 1245\n"
   ]
  },
  {
   "cell_type": "markdown",
   "metadata": {},
   "source": [
    "__Problem 9.__ Here's a fun way to try to estimate $\\pi$. Consider a circle of radius 1 sitting inside a square of side length 2 centered at the origin, as in the image below. \n",
    "<img width=400 src=\"img/pi.png\">"
   ]
  },
  {
   "cell_type": "markdown",
   "metadata": {},
   "source": [
    "First import the `random` package. Once you've done that, `random.uniform(-1, 1)` will generate a random value between -1 and 1.\n",
    "\n",
    "Using `for` loops, generate 10,000 random points in the xy-plane inside the square between (-1, -1) and (1, 1). _Hint. You can represent these points with 2 lists, one with the x-coordinates, and one with the y-coordinates._\n",
    "\n",
    "Now count the number of random points you generated are in the circle. _Hint. What equation does $(x,y)$ need to satisfy in order to be inside the circle?_\n",
    "\n",
    "We expect the proportion to be approximately equal to the ratio of the area of the circle to the area of the square, $\\pi/4$. Multiply your observed proportion by 4 to get an estimate of $\\pi$.\n",
    "\n",
    "How accurate is your estimate? What can you do to make it more accurate? "
   ]
  },
  {
   "cell_type": "code",
   "execution_count": null,
   "metadata": {},
   "outputs": [],
   "source": [
    "# Write your code here\n"
   ]
  }
 ],
 "metadata": {
  "kernelspec": {
   "display_name": "Python 3",
   "language": "python",
   "name": "python3"
  },
  "language_info": {
   "codemirror_mode": {
    "name": "ipython",
    "version": 3
   },
   "file_extension": ".py",
   "mimetype": "text/x-python",
   "name": "python",
   "nbconvert_exporter": "python",
   "pygments_lexer": "ipython3",
   "version": "3.6.4"
  }
 },
 "nbformat": 4,
 "nbformat_minor": 2
}
