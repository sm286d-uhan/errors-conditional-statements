{
 "cells": [
  {
   "cell_type": "markdown",
   "metadata": {
    "hide_cell": true
   },
   "source": [
    "<span class='note'><i>Make me look good.</i> Click on the cell below and press <kbd>Ctrl</kbd>+<kbd>Enter</kbd>.</span>"
   ]
  },
  {
   "cell_type": "code",
   "execution_count": 1,
   "metadata": {
    "hide_cell": true
   },
   "outputs": [
    {
     "data": {
      "text/html": [
       "<link href='http://fonts.googleapis.com/css?family=Lora:400,700,400i,700i' rel='stylesheet'>\n",
       "<link href='https://fonts.googleapis.com/css?family=Lato:300,400,700,300i,400i,700i' rel='stylesheet'>\n",
       "<link href='https://fonts.googleapis.com/css?family=Inconsolata:400' rel='stylesheet'>\n",
       "<link rel=\"stylesheet\" href=\"http://maxcdn.bootstrapcdn.com/font-awesome/4.3.0/css/font-awesome.min.css\">\n",
       "<style>\n",
       "    h1, h2, h3, h4, h5 {\n",
       "        font-family: 'Lato', sans-serif;\n",
       "    }\n",
       "    h5 {\n",
       "        font-style: normal;\n",
       "    }\n",
       "    kbd {\n",
       "        font-family: Lato, serif;\n",
       "    }\n",
       "    hr {\n",
       "      border-width: 2px;\n",
       "      border-color: #a9a9a9;\n",
       "    }\n",
       "    .cite {\n",
       "        font-size: 85%;\n",
       "        text-align: right;\n",
       "        margin-top: 10px;\n",
       "    }\n",
       "    .note {\n",
       "        font-family: Lora, serif;\n",
       "        font-size: 10pt;\n",
       "        font-weight: 400;\n",
       "        margin-top: 0;\n",
       "        margin-bottom: 0;\n",
       "    }\n",
       "    h5.prehead {\n",
       "        font-family: Lato, serif;\n",
       "        font-style: normal;\n",
       "        font-size: 13pt;\n",
       "        font-weight: 300;\n",
       "        margin-bottom: 15px;\n",
       "        margin-top: 30px;\n",
       "    }\n",
       "    h5.lesson {\n",
       "        font-family: Lato, serif;\n",
       "        font-weight: 400;\n",
       "        font-size: 15pt;\n",
       "        font-style: normal;\n",
       "        margin-top: 0px;\n",
       "        margin-bottom: 5px;\n",
       "    }\n",
       "    h1.lesson_title {\n",
       "        font-family: Lato, serif;\n",
       "        font-weight: 300;\n",
       "        font-size: 32pt;\n",
       "        line-height: 110%;\n",
       "        color:#CD2305;\n",
       "        margin-top: 0px;\n",
       "        margin-bottom: 15px;\n",
       "    }\n",
       "    div.cell{\n",
       "        max-width: 960px;\n",
       "        margin-left: auto;\n",
       "        margin-right: auto;\n",
       "    }\n",
       "    div.text_cell_render {\n",
       "        font-family: Lora, serif;\n",
       "        line-height: 160%;\n",
       "        font-size: 11pt;\n",
       "    }\n",
       "    .rendered_html pre, .rendered_html code  {\n",
       "        font-family: Inconsolata, monospace !important;\n",
       "        font-size: 11pt;\n",
       "    }\n",
       "    div.CodeMirror, div.output_area pre, div.prompt {\n",
       "        font-family: Inconsolata, monospace !important;\n",
       "        font-size: 110%;\n",
       "    }\n",
       "    .rendered_html ul li {\n",
       "        margin-top: 0.75em;\n",
       "        margin-bottom: 0.75em;\n",
       "    }\n",
       "    .rendered_html ul li ul li {\n",
       "        margin-top: 0.5em;\n",
       "        margin-bottom: 0.5em;\n",
       "    }\n",
       "    .rred {\n",
       "        color: #a00000;\n",
       "    }\n",
       "</style>\n",
       "<script>\n",
       "    MathJax.Hub.Config({\n",
       "                        TeX: {\n",
       "                           extensions: [\"AMSmath.js\"]\n",
       "                           },\n",
       "                tex2jax: {\n",
       "                    inlineMath: [ ['$','$'], [\"\\\\(\",\"\\\\)\"] ],\n",
       "                    displayMath: [ ['$$','$$'], [\"\\\\[\",\"\\\\]\"] ]\n",
       "                },\n",
       "                displayAlign: 'center', // Change this to 'center' to center equations.\n",
       "                \"HTML-CSS\": {\n",
       "                    styles: {'.MathJax_Display': {\"margin\": \"0.75em 0\"}}\n",
       "                }\n",
       "        });\n",
       "</script>\n"
      ],
      "text/plain": [
       "<IPython.core.display.HTML object>"
      ]
     },
     "execution_count": 1,
     "metadata": {},
     "output_type": "execute_result"
    }
   ],
   "source": [
    "from IPython.core.display import HTML\n",
    "HTML(open('css/custom.css', 'r').read())"
   ]
  },
  {
   "cell_type": "markdown",
   "metadata": {
    "hide_cell": true
   },
   "source": [
    "<h5 class='prehead'>SM286D &middot; Introduction to Applied Mathematics with Python &middot; Spring 2020 &middot; Uhan</h5>\n",
    "\n",
    "<h5 class='lesson'>Lesson 3.</h5>\n",
    "\n",
    "<h1 class='lesson_title'>List comprehensions, coding errors, conditional statements</h1>"
   ]
  },
  {
   "cell_type": "markdown",
   "metadata": {},
   "source": [
    "## This lesson..."
   ]
  },
  {
   "cell_type": "markdown",
   "metadata": {},
   "source": [
    "- List comprehensions\n",
    "\n",
    "- Coding errors\n",
    "     - Syntax\n",
    "     - Logical\n",
    "     \n",
    "- Conditional statements\n",
    " \n",
    "- Advanced Jupyter features"
   ]
  },
  {
   "cell_type": "markdown",
   "metadata": {},
   "source": [
    "##  Coding errors"
   ]
  },
  {
   "cell_type": "markdown",
   "metadata": {},
   "source": [
    "### Syntax errors"
   ]
  },
  {
   "cell_type": "markdown",
   "metadata": {},
   "source": [
    "Python is a language in much the same way that English is a language.  When you construct a sentence in English, you must follow the \"rules\" of English.  These \"rules\" are called grammar.  When you write code in Python, you must follow the \"rules\" of Python.  These \"rules\" are called syntax.\n",
    "\n",
    "Below is an example of a poorly constructed, grammatically incorrect, English sentence.\n",
    "\n",
    "    The dawg the car chsed exc1ted.\n",
    "\n",
    "It is worth noting that your brain can sometimes help you make sense of even very poorly constructed sentences in English.  The interpreter in Python is not as forgiving.  Below is an example of Python code that contains syntax errors."
   ]
  },
  {
   "cell_type": "code",
   "execution_count": 1,
   "metadata": {},
   "outputs": [
    {
     "ename": "SyntaxError",
     "evalue": "invalid syntax (<ipython-input-1-b0f624a02208>, line 2)",
     "output_type": "error",
     "traceback": [
      "\u001b[0;36m  File \u001b[0;32m\"<ipython-input-1-b0f624a02208>\"\u001b[0;36m, line \u001b[0;32m2\u001b[0m\n\u001b[0;31m    For i in RANGE(1, 11):\u001b[0m\n\u001b[0m        ^\u001b[0m\n\u001b[0;31mSyntaxError\u001b[0m\u001b[0;31m:\u001b[0m invalid syntax\n"
     ]
    }
   ],
   "source": [
    "# Print the numbers 1 through 10\n",
    "For i in RANGE(1, 11):\n",
    "    print(i)"
   ]
  },
  {
   "cell_type": "markdown",
   "metadata": {},
   "source": [
    "Using the error message from the interpreter, we can identify the first mistake."
   ]
  },
  {
   "cell_type": "code",
   "execution_count": 2,
   "metadata": {},
   "outputs": [
    {
     "ename": "NameError",
     "evalue": "name 'RANGE' is not defined",
     "output_type": "error",
     "traceback": [
      "\u001b[0;31m---------------------------------------------------------------------------\u001b[0m",
      "\u001b[0;31mNameError\u001b[0m                                 Traceback (most recent call last)",
      "\u001b[0;32m<ipython-input-2-bbd3ac56b390>\u001b[0m in \u001b[0;36m<module>\u001b[0;34m()\u001b[0m\n\u001b[0;32m----> 1\u001b[0;31m \u001b[0;32mfor\u001b[0m \u001b[0mi\u001b[0m \u001b[0;32min\u001b[0m \u001b[0mRANGE\u001b[0m\u001b[0;34m(\u001b[0m\u001b[0;36m1\u001b[0m\u001b[0;34m,\u001b[0m \u001b[0;36m11\u001b[0m\u001b[0;34m)\u001b[0m\u001b[0;34m:\u001b[0m\u001b[0;34m\u001b[0m\u001b[0m\n\u001b[0m\u001b[1;32m      2\u001b[0m     \u001b[0mprint\u001b[0m\u001b[0;34m(\u001b[0m\u001b[0mi\u001b[0m\u001b[0;34m)\u001b[0m\u001b[0;34m\u001b[0m\u001b[0m\n",
      "\u001b[0;31mNameError\u001b[0m: name 'RANGE' is not defined"
     ]
    }
   ],
   "source": [
    "for i in RANGE(1, 11):\n",
    "    print(i)"
   ]
  },
  {
   "cell_type": "markdown",
   "metadata": {},
   "source": [
    "Using the error message from the interpreter, we can identify the second mistake."
   ]
  },
  {
   "cell_type": "code",
   "execution_count": 3,
   "metadata": {},
   "outputs": [
    {
     "name": "stdout",
     "output_type": "stream",
     "text": [
      "1\n",
      "2\n",
      "3\n",
      "4\n",
      "5\n",
      "6\n",
      "7\n",
      "8\n",
      "9\n",
      "10\n"
     ]
    }
   ],
   "source": [
    "for i in range(1, 11):\n",
    "    print(i)"
   ]
  },
  {
   "cell_type": "markdown",
   "metadata": {},
   "source": [
    "#### Logical Errors\n",
    "\n",
    "When you write English sentences, you can introduce logical errors that lead to unintended meanings.  See the two example sentences below.\n",
    "\n",
    "    Let's eat, Grandma!\n",
    "    Let's eat Grandma!\n",
    "\n",
    "You can also introduce logical errors when writing Python code.  See the code example below."
   ]
  },
  {
   "cell_type": "code",
   "execution_count": 7,
   "metadata": {},
   "outputs": [
    {
     "name": "stdout",
     "output_type": "stream",
     "text": [
      "[0, 2, 4, 6, 8, 10, 12, 14, 16, 18]\n",
      "9998\n"
     ]
    }
   ],
   "source": [
    "# Create a list containing all odd numbers from 1 - 10000\n",
    "L = []\n",
    "for number in range(0, 10000, 2):\n",
    "    L.append(number)\n",
    "print(L[0:10])\n",
    "print(L[-1])"
   ]
  },
  {
   "cell_type": "markdown",
   "metadata": {},
   "source": [
    "Note that when you run the code, the interpreter doesn't produce any error statements.  The resulting list, however, does NOT contain the odd numbers from 1 to 10,000.  Below is the corrected code."
   ]
  },
  {
   "cell_type": "code",
   "execution_count": 6,
   "metadata": {},
   "outputs": [
    {
     "name": "stdout",
     "output_type": "stream",
     "text": [
      "[1, 3, 5, 7, 9, 11, 13, 15, 17, 19]\n",
      "9999\n"
     ]
    }
   ],
   "source": [
    "# Create a list containing all odd numbers from 1 - 10000\n",
    "L = []\n",
    "for number in range(1, 10000, 2):\n",
    "    L.append(number)\n",
    "print(L[0:10])\n",
    "print(L[-1])"
   ]
  },
  {
   "cell_type": "markdown",
   "metadata": {},
   "source": [
    "Below are some tips for how you can avoid introducing logical errors in your Python code.\n",
    "\n",
    " - Don't start with coding!\n",
    " - First, write out progressively more specific \"pseudo code\"\n",
    "\n",
    "\"Pseudo Code\" is a description of the algorithm you are trying to implement without worrying about the syntax of the particular language you are using.\n",
    "\n",
    "For a summary of the two types of programming errors, see the table below.\n",
    "\n",
    "| Syntax Errors | Logical Errors |\n",
    "| ------------- | -------------- |\n",
    "| Relatively easy to find and fix | Relatively hard to find and fix |\n",
    "| Generates error messages that should point \"near\" the syntax error | No error messages |\n",
    "| May cause insanity | May cause insanity |"
   ]
  },
  {
   "cell_type": "markdown",
   "metadata": {},
   "source": [
    "### 2.  Conditional Statements\n",
    "\n",
    " - **IF** a conditional statement is true, **THEN** do something\n",
    " - **ELSE** (if that conditional statement is false), do something else\n",
    " \n",
    "In order to write conditional statements in Python, it will be helpful to know the following symbols and their meanings.\n",
    "\n",
    "| Symbol | Meaning |\n",
    "| ------ | ------- |\n",
    "| > | Greater Than |\n",
    "| < | Less Than |\n",
    "| == | Is Equal To |\n",
    "| <= | Less Than or Equal To |\n",
    "| >= | Greather Than or Equal To |\n",
    "\n",
    "**WARNING!** In Python, a single equal sign `=` is used to assign the value of something, and a double equal sign `==` is used to check if something is equal to something else.\n",
    "\n",
    "Below are some examples of logical statements in Python.  Make sure you understand why they evaluate to True or False."
   ]
  },
  {
   "cell_type": "code",
   "execution_count": 8,
   "metadata": {},
   "outputs": [
    {
     "name": "stdout",
     "output_type": "stream",
     "text": [
      "False\n",
      "True\n",
      "False\n",
      "True\n"
     ]
    }
   ],
   "source": [
    "print(3**2 <= 2**3)\n",
    "print((1**3+2**3+3**3) == (1+2+3)**2)\n",
    "print(8 > 20%12)\n",
    "print(2 <= 2)"
   ]
  },
  {
   "cell_type": "markdown",
   "metadata": {},
   "source": [
    "Below we make use of conditional statements to answer the following question.\n",
    "\n",
    "**Example**\n",
    "If we list all the natural numbers below 10 that are multiples of 3 or 5, we get 3, 5, 6, and 9.  The sum of these multiples is 23.  Find the sum of all the multiples of 3 or 5 below 1000."
   ]
  },
  {
   "cell_type": "code",
   "execution_count": 9,
   "metadata": {},
   "outputs": [
    {
     "name": "stdout",
     "output_type": "stream",
     "text": [
      "233168\n"
     ]
    }
   ],
   "source": [
    "# Begin by initializing a list to store the multiples of 3 and 5\n",
    "Multiples_3_5 = []\n",
    "# Now loop over all natural numbers below 1000\n",
    "for number in range(1, 1000):\n",
    "    # If that number is evenly divisible by 3, append that number to the list\n",
    "    if number % 3 == 0:\n",
    "        Multiples_3_5.append(number)\n",
    "    # Otherwise, check if that number is evenly divisible by 5, if so add it to the list\n",
    "    else:\n",
    "        if number % 5 == 0:\n",
    "            Multiples_3_5.append(number)\n",
    "# Print the sum of the list\n",
    "print(sum(Multiples_3_5))"
   ]
  },
  {
   "cell_type": "markdown",
   "metadata": {},
   "source": [
    "Below is the same code, in a more \"Pythonic\" format."
   ]
  },
  {
   "cell_type": "code",
   "execution_count": 10,
   "metadata": {},
   "outputs": [
    {
     "name": "stdout",
     "output_type": "stream",
     "text": [
      "233168\n"
     ]
    }
   ],
   "source": [
    "# Below is the same code in a more \"Pythonic\" format\n",
    "Multiples_3_5 = []\n",
    "for number in range(1, 1000):\n",
    "    \n",
    "    if number % 3 == 0:\n",
    "        Multiples_3_5.append(number)\n",
    "    \n",
    "    elif number % 5 == 0:\n",
    "            Multiples_3_5.append(number)\n",
    "\n",
    "print(sum(Multiples_3_5))"
   ]
  },
  {
   "cell_type": "markdown",
   "metadata": {},
   "source": [
    "**BE CAREFUL!** There is a difference between using `elif` and just using another `if` statement.  See the code below.  Why do you end up \"double counting\" some multiples in the code below?"
   ]
  },
  {
   "cell_type": "code",
   "execution_count": 11,
   "metadata": {},
   "outputs": [
    {
     "name": "stdout",
     "output_type": "stream",
     "text": [
      "266333\n"
     ]
    }
   ],
   "source": [
    "# BE CAREFUL - You CAN'T just use a second if statement in this example or you will get the WRONG answer\n",
    "Multiples_3_5 = []\n",
    "for number in range(1, 1000):\n",
    "    \n",
    "    if number % 3 == 0:\n",
    "        Multiples_3_5.append(number)\n",
    "    \n",
    "    if number % 5 == 0:\n",
    "        Multiples_3_5.append(number)\n",
    "\n",
    "print(sum(Multiples_3_5))"
   ]
  },
  {
   "cell_type": "markdown",
   "metadata": {},
   "source": [
    "## Classwork"
   ]
  },
  {
   "cell_type": "markdown",
   "metadata": {},
   "source": [
    "1.  In this question we work with numbers modulo 7. The number 8 is equal to 1 mod 7 because its remainder upon division by 7 is equal to 1. You can compute the value of 8 mod 7 using the Python command `8 % 7` (see code below)."
   ]
  },
  {
   "cell_type": "code",
   "execution_count": 3,
   "metadata": {},
   "outputs": [
    {
     "data": {
      "text/plain": [
       "1"
      ]
     },
     "execution_count": 3,
     "metadata": {},
     "output_type": "execute_result"
    }
   ],
   "source": [
    "8 % 7"
   ]
  },
  {
   "cell_type": "markdown",
   "metadata": {},
   "source": [
    "Using a for loop and an if statement, compute the sum of the positive integers less than 55 that are equal to 1 mod 7."
   ]
  },
  {
   "cell_type": "code",
   "execution_count": 1,
   "metadata": {},
   "outputs": [
    {
     "name": "stdout",
     "output_type": "stream",
     "text": [
      "The sum of the numbers from 1 to 55 that equal 1 mod 7 is 204.\n"
     ]
    }
   ],
   "source": [
    "val = 0 \n",
    "for i in range(1,56):\n",
    "    if i % 7 == 1: \n",
    "        val += i\n",
    "print(f\"The sum of the numbers from 1 to 55 that equal 1 mod 7 is {val}.\")"
   ]
  },
  {
   "cell_type": "markdown",
   "metadata": {},
   "source": [
    "2.   (PCC 5-10) Checking Usernames: Do the following to create a program that simulates how websites ensure that everyone has a unique username. \n",
    "\n",
    " - Make a list of five or more usernames called `current_users`.\n",
    " - Make another list of five usernames called `new_users`. Make sure one or two of the new usernames are also in the `current_users` list.\n",
    " - Loop through the `new_users` list to see if each new username has already been used. If it has, print a message that the person will need to enter a new username. If a username has not been used, print a message saying that the username is available.\n",
    " - Make sure your comparison is case insensitive. If 'John' has been used, 'JOHN' should not be accepted."
   ]
  },
  {
   "cell_type": "code",
   "execution_count": 2,
   "metadata": {},
   "outputs": [
    {
     "name": "stdout",
     "output_type": "stream",
     "text": [
      "I'm sorry, JOHN, that name has been taken.\n",
      "Hello Edith!\n",
      "Hello Kevin!\n",
      "Hello Jody!\n",
      "I'm sorry, cindy, that name has been taken.\n"
     ]
    }
   ],
   "source": [
    "current_users = ['John', 'Emily', 'Carl', 'Jake', \"Cindy\"]\n",
    "new_users = ['JOHN', 'Edith', \"Kevin\", \"Jody\", \"cindy\"]\n",
    "\n",
    "for name in new_users:\n",
    "    if name.title() in [user.title() for user in current_users]: \n",
    "        print(f\"I'm sorry, {name}, that name has been taken.\")\n",
    "    else:\n",
    "        print(f\"Hello {name}!\")"
   ]
  },
  {
   "cell_type": "markdown",
   "metadata": {},
   "source": [
    "3.  (PCC 5-11) Ordinal Numbers: Ordinal numbers indicate their position in a list, such as 1st or 2nd. Most ordinal numbers end in th, except 1, 2, and 3.\n",
    "\n",
    " - Store the numbers 1 through 9 in a list.\n",
    " - Loop through the list.\n",
    " - Use an if-elif-else chain inside the loop to print the proper ordinal ending for each number. Your output should read \"1st 2nd 3rd 4th 5th 6th 7th 8th 9th\", and each result should be on a separate line. "
   ]
  },
  {
   "cell_type": "code",
   "execution_count": 3,
   "metadata": {},
   "outputs": [
    {
     "name": "stdout",
     "output_type": "stream",
     "text": [
      "1st\n",
      "2nd\n",
      "3rd\n",
      "4th\n",
      "5th\n",
      "6th\n",
      "7th\n",
      "8th\n",
      "9th\n"
     ]
    }
   ],
   "source": [
    "numbers = list(range(1,10))\n",
    "for number in numbers: \n",
    "    if number == 1: \n",
    "        print(\"1st\")\n",
    "    elif number == 2: \n",
    "        print(\"2nd\")\n",
    "    elif number == 3:\n",
    "        print(\"3rd\")\n",
    "    else: \n",
    "        print(f\"{number}th\")"
   ]
  },
  {
   "cell_type": "markdown",
   "metadata": {},
   "source": [
    "4.  (PCC 5-13) Your Ideas: At this point, you are a more capable programmer than you were when you started this book. Now that you have a better sense of how real-world situations are modeled in programs, you might be thinking of some problems you could solve with your own programs. Record any new ideas you have about problems you might want to solve as your programming skills continue to improve. Consider games you might want to write, data sets you might want to explore, and web applications you would like to create."
   ]
  },
  {
   "cell_type": "code",
   "execution_count": 7,
   "metadata": {},
   "outputs": [
    {
     "name": "stdout",
     "output_type": "stream",
     "text": [
      "I'd like to create an autograder that will grade quizzes and homeworkfor me.\n",
      "I'd also like to create an online air hockey game!\n"
     ]
    }
   ],
   "source": [
    "print(\"I'd like to create an autograder that will grade quizzes and homework\" +\n",
    "      \"for me.\")\n",
    "print(\"I'd also like to create an online air hockey game!\")"
   ]
  },
  {
   "cell_type": "markdown",
   "metadata": {},
   "source": [
    "5.  Write code that sets the variable `time` to the string `1155` and another variable `half` to the either `am` or `pm`. Now write code that converts this time to 24 hour zulu time, stores the result in a variable `zulu` and writes a sentence to the screen, such as \"1155 pm is equivalent to 2355 zulu time.\"  \n",
    "\n",
    "Your code should produce the correct answer in both cases (am/pm). What should the output be when `time = 1245` and `half = pm`? Recall that pm stands for the Latin expression post meridiem (after midday). "
   ]
  },
  {
   "cell_type": "code",
   "execution_count": 4,
   "metadata": {},
   "outputs": [
    {
     "name": "stdout",
     "output_type": "stream",
     "text": [
      "1155 pm is equivalent to 2355 in zulu time.\n",
      "1245 pm is equivalent to 1245 in zulu time.\n"
     ]
    }
   ],
   "source": [
    "time = '1155'\n",
    "half = 'pm'\n",
    "if half == 'pm' and int(time)<1200:\n",
    "    zulu = str(int(time)+1200)\n",
    "elif half == 'pm' and int(time)>1200:\n",
    "    zulu = time\n",
    "elif half == 'am' and int(time)>=1200:\n",
    "    zulu = str(int(time)-1200)\n",
    "else: \n",
    "    zulu = time\n",
    "print(f\"{time} {half} is equivalent to {zulu} in zulu time.\")\n",
    "\n",
    "time = '1245'\n",
    "half = 'pm'\n",
    "if half == 'pm' and int(time)<1200:\n",
    "    zulu = str(int(time)+1200)\n",
    "elif half == 'pm' and int(time)>1200:\n",
    "    zulu = time\n",
    "elif half == 'am' and int(time)>=1200:\n",
    "    zulu = str(int(time)-1200)\n",
    "else: \n",
    "    zulu = time\n",
    "print(f\"{time} {half} is equivalent to {zulu} in zulu time.\")"
   ]
  },
  {
   "cell_type": "markdown",
   "metadata": {},
   "source": [
    "6.  Here's a fun way to try to estimate $\\pi$. Consider a circle of radius 1 sitting inside a square of side length 2 centered at the origin, as in the image below. \n",
    "<img src=\"pi.png\">"
   ]
  },
  {
   "cell_type": "markdown",
   "metadata": {},
   "source": [
    "First import the `random` package. Randomly generate a list of 10,000 points in the square using a for loop and the code `random.uniform(-1,1)` (to generate one component of a point). Now count the number that are inside the circle. We expect the proportion to be approximately equal to the ratio of the area of the circle to the area of the square, $\\pi/4$. Multiply your observed proportion by 4 to get an estimate of $\\pi$. How accurate is your estimate? What can you do to make it more accurate? "
   ]
  },
  {
   "cell_type": "code",
   "execution_count": 5,
   "metadata": {},
   "outputs": [
    {
     "name": "stdout",
     "output_type": "stream",
     "text": [
      "Our approximation to pi using 10000 points is 3.152.\n",
      "\n"
     ]
    }
   ],
   "source": [
    "import random as random\n",
    "in_square = 0\n",
    "points = [[random.uniform(-1,1),random.uniform(-1,1)] for i in range(10000)]\n",
    "for i in range(0,10000):\n",
    "    if points[i][0]**2 + points[i][1]**2 <= 1: \n",
    "        in_square += 1 \n",
    "pi_approx = 4*in_square/10000\n",
    "print(f\"Our approximation to pi using 10000 points is {pi_approx}.\\n\")"
   ]
  },
  {
   "cell_type": "markdown",
   "metadata": {},
   "source": [
    "7.  (The Locker Problem) A hallway has 1000 open lockers numbered 1 to 1000. There are 1000 students and every number from 1 to 1000 is assigned to a student. Student 1 goes and shuts every locker. Student 2 goes and changes the state of every locker with an even number (i.e. this student opens closed lockers and closes any open lockers). This process continues with student $k$ changing the state of every locker whose number is evenly divisible by $k$. Which of the lockers are closed at the end of the process? Write code to implement the closing and opening of lockers and see. "
   ]
  },
  {
   "cell_type": "code",
   "execution_count": 6,
   "metadata": {
    "scrolled": true
   },
   "outputs": [
    {
     "name": "stdout",
     "output_type": "stream",
     "text": [
      "Locker 1 is closed.\n",
      "Locker 4 is closed.\n",
      "Locker 9 is closed.\n",
      "Locker 16 is closed.\n",
      "Locker 25 is closed.\n",
      "Locker 36 is closed.\n",
      "Locker 49 is closed.\n",
      "Locker 64 is closed.\n",
      "Locker 81 is closed.\n",
      "Locker 100 is closed.\n",
      "Locker 121 is closed.\n",
      "Locker 144 is closed.\n",
      "Locker 169 is closed.\n",
      "Locker 196 is closed.\n",
      "Locker 225 is closed.\n",
      "Locker 256 is closed.\n",
      "Locker 289 is closed.\n",
      "Locker 324 is closed.\n",
      "Locker 361 is closed.\n",
      "Locker 400 is closed.\n",
      "Locker 441 is closed.\n",
      "Locker 484 is closed.\n",
      "Locker 529 is closed.\n",
      "Locker 576 is closed.\n",
      "Locker 625 is closed.\n",
      "Locker 676 is closed.\n",
      "Locker 729 is closed.\n",
      "Locker 784 is closed.\n",
      "Locker 841 is closed.\n",
      "Locker 900 is closed.\n",
      "Locker 961 is closed.\n",
      "The closed lockers are those that are square numbers. Those have an odd number of divisors. All other lockers are open.\n",
      "\n"
     ]
    }
   ],
   "source": [
    "open = [True for i in range(1,1001)]\n",
    "for student in range(1,1001):\n",
    "    for locker in range(1,1001):\n",
    "        if locker % student == 0: \n",
    "            open[locker-1] = not open[locker-1]\n",
    "for locker in range(1,1001):\n",
    "    if not open[locker-1]:\n",
    "        print(f\"Locker {locker} is closed.\")\n",
    "        \n",
    "print(\"The closed lockers are those that are square numbers. Those have an\" +\n",
    "      \" odd number of divisors. All other lockers are open.\\n\")"
   ]
  },
  {
   "cell_type": "markdown",
   "metadata": {},
   "source": [
    "8.  This and the next two questions refer to the following data. I've picked out several recipes from Cooking Light Magazine, Sept 2016 (see the picture below for the cover image): \n",
    " - Kale, Mushroom, and Bacon Pita Pizzas\n",
    " - Pea, Tomato and Bacon Gnochi\n",
    " - Kale and Mushroom Quinoa with Romanesco\n",
    " - Kale, Apple and Almond Chicken Salad\n",
    " - Kale Pesto Pasta with Shrimp\n",
    " - Stacked Chicken Enchiladas\n",
    "\n",
    "<img src=\"cooking.jpg\">"
   ]
  },
  {
   "cell_type": "markdown",
   "metadata": {},
   "source": [
    "Use the variables defined below for your code. In the Recipe Data below, we store the six names in the above order in the list `recipe_names`. Corresponding data is stored in the lists `recipe_active_times`, `recipe_total_times`, `recipe_calories`, `recipe_fats`, `recipe_proteins`, `recipe_carbs`, `recipe_fibers`, `recipe_sugars`, `recipe_cholesterols`, `recipe_irons`, `recipe_sodiums`, `recipe_calciums`.  \n",
    "\n",
    "Print the names of the recipes that can be cooked in less than or equal\tto half an hour. Use a loop to do so without hard coding the number of recipes. "
   ]
  },
  {
   "cell_type": "code",
   "execution_count": 8,
   "metadata": {},
   "outputs": [],
   "source": [
    "\"\"\" Recipe Data \"\"\"\n",
    "\n",
    "recipe_names = ['pizza', 'gnochi', 'quinoa', 'chicken salad', \n",
    "                'pasta with shrimp', 'enchiladas']\n",
    "recipe_active_times = [30, 18, 25, 35, 20, 25]\n",
    "recipe_total_times = [30, 30, 40, 35, 20, 40]\n",
    "recipe_calories = [314, 301, 519, 318, 472, 348]\n",
    "recipe_fats = [11.9, 8.7, 25.1, 20.6, 21.7, 14.5]\n",
    "recipe_proteins = [13, 10, 22, 20, 24, 29]\n",
    "recipe_carbs = [41, 44, 53, 14, 46, 28]\n",
    "recipe_fibers = [9, 10, 7, 4, 8, 5]\n",
    "recipe_sugars = [5, 3, 6, 6, 1, 3]\n",
    "recipe_cholesterols = [10, 13, 186, 81, 114, 101]\n",
    "recipe_irons = [3, 5, 5, 2, 3, 1]\n",
    "recipe_sodiums = [492, 640, 722, 447, 575, 613]\n",
    "recipe_calciums = [139, 68, 169, 159, 241, 329]    "
   ]
  },
  {
   "cell_type": "code",
   "execution_count": 9,
   "metadata": {},
   "outputs": [
    {
     "name": "stdout",
     "output_type": "stream",
     "text": [
      "Pizza takes no more than half an hour to cook.\n",
      "Gnochi takes no more than half an hour to cook.\n",
      "Pasta With Shrimp takes no more than half an hour to cook.\n"
     ]
    }
   ],
   "source": [
    "for i in range(len(recipe_names)):\n",
    "    if recipe_total_times[i] <= 30:\n",
    "        print(f\"{recipe_names[i].title()} takes no more than half an hour to cook.\")"
   ]
  },
  {
   "cell_type": "markdown",
   "metadata": {},
   "source": [
    "9.  Print the names of the recipes that have less than 400 calories and more than 5g of fiber. Use a loop to do so without hard coding the number of recipes.  "
   ]
  },
  {
   "cell_type": "code",
   "execution_count": 10,
   "metadata": {},
   "outputs": [
    {
     "name": "stdout",
     "output_type": "stream",
     "text": [
      "Pizza has less than 400 calories and more than 5g of fiber.\n",
      "Gnochi has less than 400 calories and more than 5g of fiber.\n"
     ]
    }
   ],
   "source": [
    "for i in range(len(recipe_names)):\n",
    "    if recipe_calories[i] < 400 and recipe_fibers[i] > 5:\n",
    "        print(f\"{recipe_names[i].title()} has less than 400 calories and more than 5g of fiber.\")"
   ]
  },
  {
   "cell_type": "markdown",
   "metadata": {},
   "source": [
    "10.  Print the names of the recipes that have more than 20g of protein or less than 3g of sugar.  Use a loop to do so without hard coding the number of recipes. "
   ]
  },
  {
   "cell_type": "code",
   "execution_count": 11,
   "metadata": {},
   "outputs": [
    {
     "name": "stdout",
     "output_type": "stream",
     "text": [
      "Quinoa has more than 20g of protein or less than 3g of sugar.\n",
      "Pasta With Shrimp has more than 20g of protein or less than 3g of sugar.\n",
      "Enchiladas has more than 20g of protein or less than 3g of sugar.\n"
     ]
    }
   ],
   "source": [
    "for i in range(len(recipe_names)):\n",
    "    if recipe_proteins[i] > 20 or  recipe_sugars[i] < 3:\n",
    "        print(f\"{recipe_names[i].title()} has more than 20g of protein or less than 3g of sugar.\")"
   ]
  },
  {
   "cell_type": "markdown",
   "metadata": {},
   "source": [
    "11. (Seven up) Seven up is a fun game to play with elementary school students. Going around the room, each student says a number in the sequence 1, 2, 3, $\\cdots$. However, if a number ends in seven (like 17) or if a number is divisible by 7 (like 14) then the student instead says \"up\". In the game, when a student makes a mistake, they are eliminated and the remainder of the class starts again at 1 but we'll assume that our students always say the correct thing. \n",
    "\n",
    " - The class counts to 50. Make a list consisting of strings containing the things that the students say. Your list should start with \"1\", \"2\", \"3\", \"4\", \"5\", \"6\", and \"up\".\n",
    " - If there are 18 students in the class and they count until 1000, make a list containing the things that are said by the 3rd student. Careful, 0-indexing may give you problems. The student starts with \"3\" and then \"up\". "
   ]
  },
  {
   "cell_type": "code",
   "execution_count": 12,
   "metadata": {},
   "outputs": [
    {
     "name": "stdout",
     "output_type": "stream",
     "text": [
      "The students say:\n",
      "1\n",
      "2\n",
      "3\n",
      "4\n",
      "5\n",
      "6\n",
      "up\n",
      "8\n",
      "9\n",
      "10\n",
      "11\n",
      "12\n",
      "13\n",
      "up\n",
      "15\n",
      "16\n",
      "up\n",
      "18\n",
      "19\n",
      "20\n",
      "up\n",
      "22\n",
      "23\n",
      "24\n",
      "25\n",
      "26\n",
      "up\n",
      "up\n",
      "29\n",
      "30\n",
      "31\n",
      "32\n",
      "33\n",
      "34\n",
      "up\n",
      "36\n",
      "up\n",
      "38\n",
      "39\n",
      "40\n",
      "41\n",
      "up\n",
      "43\n",
      "44\n",
      "45\n",
      "46\n",
      "up\n",
      "48\n",
      "up\n",
      "50\n"
     ]
    }
   ],
   "source": [
    "print(\"The students say:\")\n",
    "for i in range(1,51):\n",
    "    if i % 7 == 0 or str(i)[-1] == \"7\":\n",
    "        print(\"up\")\n",
    "    else:\n",
    "        print(str(i))"
   ]
  },
  {
   "cell_type": "code",
   "execution_count": 13,
   "metadata": {},
   "outputs": [
    {
     "name": "stdout",
     "output_type": "stream",
     "text": [
      "The third student says:\n",
      "3\n",
      "up\n",
      "39\n",
      "up\n",
      "75\n",
      "93\n",
      "111\n",
      "129\n",
      "up\n",
      "165\n",
      "183\n",
      "201\n",
      "219\n",
      "up\n",
      "255\n",
      "up\n",
      "291\n",
      "309\n",
      "up\n",
      "345\n",
      "363\n",
      "381\n",
      "up\n",
      "up\n",
      "435\n",
      "453\n",
      "471\n",
      "489\n",
      "up\n",
      "up\n",
      "543\n",
      "561\n",
      "579\n",
      "up\n",
      "615\n",
      "633\n",
      "up\n",
      "669\n",
      "up\n",
      "705\n",
      "723\n",
      "741\n",
      "759\n",
      "up\n",
      "795\n",
      "813\n",
      "831\n",
      "849\n",
      "up\n",
      "885\n",
      "up\n",
      "921\n",
      "939\n",
      "up\n",
      "975\n",
      "993\n"
     ]
    }
   ],
   "source": [
    "print(\"The third student says:\")\n",
    "for i in range(1,1000):\n",
    "    if i % 18 == 3 and (i % 7 == 0 or str(i)[-1] == \"7\"):\n",
    "        print(\"up\")\n",
    "    elif i % 18 == 3:\n",
    "        print(str(i))"
   ]
  },
  {
   "cell_type": "markdown",
   "metadata": {},
   "source": [
    "12.  Import the `numpy` package as `np` and execute the two commands \n",
    "\n",
    "`M1 = np.array([[1,2],[3,4]])` and `M2 = np.array([[1,3],[2,4]])`\n",
    "\n",
    "to create two matrices. What does the command `M1==M2` do? Use the methods `.all()` and `.any()` to check whether all the entries are equal and whether any entries are equal. Write code with an if-statement that prints \"All entries equal\" or \"Some entries equal\" depending on the values of `M1` and `M2`. Your code should work for any pair of matrices. Change the matrices to get the other kind of output. Think of a third case to add to your if-statement and do so. Change the matrices so that this last block of code in the if-statement runs.  "
   ]
  },
  {
   "cell_type": "code",
   "execution_count": 14,
   "metadata": {},
   "outputs": [
    {
     "name": "stdout",
     "output_type": "stream",
     "text": [
      "M1 == M2 creates a matrix of Boolean values with ij entry equal to M1[i][j]==M2[i][j].\n",
      "Some entries equal.\n",
      "All entries equal.\n",
      "No entries equal.\n"
     ]
    }
   ],
   "source": [
    "import numpy as np\n",
    "M1 = np.array([[1,2],[3,4]])\n",
    "M2 = np.array([[1,3],[2,4]])\n",
    "M1 == M2 \n",
    "print(\"M1 == M2 creates a matrix of Boolean values with ij entry \"+\n",
    "      \"equal to M1[i][j]==M2[i][j].\")\n",
    "if (M1==M2).all():\n",
    "    print(\"All entries equal.\")\n",
    "elif (M1==M2).any():\n",
    "    print(\"Some entries equal.\")\n",
    "M2 = M1\n",
    "if (M1==M2).all():\n",
    "    print(\"All entries equal.\")\n",
    "elif (M1==M2).any():\n",
    "    print(\"Some entries equal.\")\n",
    "M2 = np.zeros((2,2))\n",
    "if (M1==M2).all():\n",
    "    print(\"All entries equal.\")\n",
    "elif (M1==M2).any():\n",
    "    print(\"Some entries equal.\")\n",
    "else:\n",
    "    print(\"No entries equal.\")"
   ]
  }
 ],
 "metadata": {
  "kernelspec": {
   "display_name": "Python 3",
   "language": "python",
   "name": "python3"
  },
  "language_info": {
   "codemirror_mode": {
    "name": "ipython",
    "version": 3
   },
   "file_extension": ".py",
   "mimetype": "text/x-python",
   "name": "python",
   "nbconvert_exporter": "python",
   "pygments_lexer": "ipython3",
   "version": "3.6.4"
  }
 },
 "nbformat": 4,
 "nbformat_minor": 2
}
